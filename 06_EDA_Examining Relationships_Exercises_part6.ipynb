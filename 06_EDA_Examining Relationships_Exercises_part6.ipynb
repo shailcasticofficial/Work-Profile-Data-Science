{
 "cells": [
  {
   "cell_type": "code",
   "execution_count": 1,
   "metadata": {},
   "outputs": [],
   "source": [
    "import pandas as pd \n",
    "import numpy as np \n",
    "import matplotlib.pyplot as plt \n",
    "%matplotlib inline\n",
    "pd.options.display.max_columns=999 \n",
    "plt.style.use('fivethirtyeight')"
   ]
  },
  {
   "cell_type": "markdown",
   "metadata": {},
   "source": [
    "# Body Image and Academic Performance of College Students"
   ]
  },
  {
   "cell_type": "markdown",
   "metadata": {},
   "source": [
    "A student survey was conducted at a major university. Data were collected from a random sample of 239 undergraduate students, and the information that was collected included physical characteristics (such as height, handedness, etc.), study habits, academic performance and attitudes, and social behaviors. In this exercise, we will focus on exploring relationships between some of those variables. Note that the symbol * in the worksheet means that this observation is not available (this is known as a 'missing value'). \n",
    "\n",
    "**Q1.** Is there a relationship between students' college GPAs and their high school GPAs?\n",
    "\n",
    "**Q2.** Are there differences between males and females with respect to body image?\n",
    "\n",
    "**Q3.** Is students' academic performance in college related to their typical seating location in class?\n",
    "\n",
    "* **Gender:** Male or Female\n",
    "* **Height:** Self-reported height (in inches)\n",
    "* **GPA:** Student's cumulative college GPA\n",
    "* **HS_GPA:** Student's high school GPA (senior year)\n",
    "* **Seat:** Typical classroom seat location (F = Front, M = Middle, B = Back)\n",
    "* **WtFeel:** Does the student feel that he/she is: Underweight, About Right, Overweight\n",
    "* **Cheat:** Would the tell the instructor if he/she saw somebody cheating on exam? (No or Yes)"
   ]
  },
  {
   "cell_type": "markdown",
   "metadata": {},
   "source": [
    "### Understand the Problem\n",
    "\n",
    "Before we begin looking at specific questions, we examine some general features of the problem, such as the data structure, how the data were collected, and the overall study design."
   ]
  },
  {
   "cell_type": "code",
   "execution_count": 2,
   "metadata": {},
   "outputs": [],
   "source": [
    "students = pd.read_excel('../Data/body_image.xls')"
   ]
  },
  {
   "cell_type": "code",
   "execution_count": 3,
   "metadata": {},
   "outputs": [
    {
     "data": {
      "text/html": [
       "<div>\n",
       "<style scoped>\n",
       "    .dataframe tbody tr th:only-of-type {\n",
       "        vertical-align: middle;\n",
       "    }\n",
       "\n",
       "    .dataframe tbody tr th {\n",
       "        vertical-align: top;\n",
       "    }\n",
       "\n",
       "    .dataframe thead th {\n",
       "        text-align: right;\n",
       "    }\n",
       "</style>\n",
       "<table border=\"1\" class=\"dataframe\">\n",
       "  <thead>\n",
       "    <tr style=\"text-align: right;\">\n",
       "      <th></th>\n",
       "      <th>Gender</th>\n",
       "      <th>Height</th>\n",
       "      <th>GPA</th>\n",
       "      <th>HS GPA</th>\n",
       "      <th>Seat</th>\n",
       "      <th>WtFeel</th>\n",
       "      <th>Cheat</th>\n",
       "    </tr>\n",
       "  </thead>\n",
       "  <tbody>\n",
       "    <tr>\n",
       "      <th>0</th>\n",
       "      <td>Female</td>\n",
       "      <td>64.0</td>\n",
       "      <td>2.6</td>\n",
       "      <td>2.63</td>\n",
       "      <td>M</td>\n",
       "      <td>AboutRt</td>\n",
       "      <td>No</td>\n",
       "    </tr>\n",
       "    <tr>\n",
       "      <th>1</th>\n",
       "      <td>Male</td>\n",
       "      <td>69.0</td>\n",
       "      <td>2.7</td>\n",
       "      <td>3.72</td>\n",
       "      <td>M</td>\n",
       "      <td>AboutRt</td>\n",
       "      <td>No</td>\n",
       "    </tr>\n",
       "    <tr>\n",
       "      <th>2</th>\n",
       "      <td>Female</td>\n",
       "      <td>66.0</td>\n",
       "      <td>3</td>\n",
       "      <td>3.44</td>\n",
       "      <td>F</td>\n",
       "      <td>AboutRt</td>\n",
       "      <td>No</td>\n",
       "    </tr>\n",
       "    <tr>\n",
       "      <th>3</th>\n",
       "      <td>Female</td>\n",
       "      <td>63.0</td>\n",
       "      <td>3.11</td>\n",
       "      <td>2.73</td>\n",
       "      <td>F</td>\n",
       "      <td>AboutRt</td>\n",
       "      <td>No</td>\n",
       "    </tr>\n",
       "    <tr>\n",
       "      <th>4</th>\n",
       "      <td>Male</td>\n",
       "      <td>72.0</td>\n",
       "      <td>3.4</td>\n",
       "      <td>2.35</td>\n",
       "      <td>B</td>\n",
       "      <td>OverWt</td>\n",
       "      <td>No</td>\n",
       "    </tr>\n",
       "    <tr>\n",
       "      <th>5</th>\n",
       "      <td>Female</td>\n",
       "      <td>67.0</td>\n",
       "      <td>3.43</td>\n",
       "      <td>3.84</td>\n",
       "      <td>M</td>\n",
       "      <td>AboutRt</td>\n",
       "      <td>No</td>\n",
       "    </tr>\n",
       "    <tr>\n",
       "      <th>6</th>\n",
       "      <td>Male</td>\n",
       "      <td>69.0</td>\n",
       "      <td>3.7</td>\n",
       "      <td>4</td>\n",
       "      <td>F</td>\n",
       "      <td>NaN</td>\n",
       "      <td>No</td>\n",
       "    </tr>\n",
       "    <tr>\n",
       "      <th>7</th>\n",
       "      <td>Male</td>\n",
       "      <td>74.0</td>\n",
       "      <td>3.7</td>\n",
       "      <td>3.92</td>\n",
       "      <td>B</td>\n",
       "      <td>AboutRt</td>\n",
       "      <td>No</td>\n",
       "    </tr>\n",
       "    <tr>\n",
       "      <th>8</th>\n",
       "      <td>Male</td>\n",
       "      <td>72.0</td>\n",
       "      <td>3.77</td>\n",
       "      <td>3.09</td>\n",
       "      <td>M</td>\n",
       "      <td>UnderWt</td>\n",
       "      <td>No</td>\n",
       "    </tr>\n",
       "    <tr>\n",
       "      <th>9</th>\n",
       "      <td>Female</td>\n",
       "      <td>63.0</td>\n",
       "      <td>3.5</td>\n",
       "      <td>4</td>\n",
       "      <td>F</td>\n",
       "      <td>AboutRt</td>\n",
       "      <td>No</td>\n",
       "    </tr>\n",
       "  </tbody>\n",
       "</table>\n",
       "</div>"
      ],
      "text/plain": [
       "   Gender  Height   GPA HS GPA Seat   WtFeel Cheat\n",
       "0  Female    64.0   2.6   2.63    M  AboutRt    No\n",
       "1    Male    69.0   2.7   3.72    M  AboutRt    No\n",
       "2  Female    66.0     3   3.44    F  AboutRt    No\n",
       "3  Female    63.0  3.11   2.73    F  AboutRt    No\n",
       "4    Male    72.0   3.4   2.35    B   OverWt    No\n",
       "5  Female    67.0  3.43   3.84    M  AboutRt    No\n",
       "6    Male    69.0   3.7      4    F      NaN    No\n",
       "7    Male    74.0   3.7   3.92    B  AboutRt    No\n",
       "8    Male    72.0  3.77   3.09    M  UnderWt    No\n",
       "9  Female    63.0   3.5      4    F  AboutRt    No"
      ]
     },
     "execution_count": 3,
     "metadata": {},
     "output_type": "execute_result"
    }
   ],
   "source": [
    "students.head(10)"
   ]
  },
  {
   "cell_type": "markdown",
   "metadata": {},
   "source": [
    "**Question-** Out of the first ten students in the datafile, how many typically sit in the back of the classroom?"
   ]
  },
  {
   "cell_type": "code",
   "execution_count": 4,
   "metadata": {},
   "outputs": [
    {
     "data": {
      "text/plain": [
       "F    4\n",
       "M    4\n",
       "B    2\n",
       "Name: Seat, dtype: int64"
      ]
     },
     "execution_count": 4,
     "metadata": {},
     "output_type": "execute_result"
    }
   ],
   "source": [
    "students_first10 = students.head(10)\n",
    "students_first10['Seat'].value_counts()"
   ]
  },
  {
   "cell_type": "markdown",
   "metadata": {},
   "source": [
    "**Answer-** 2 "
   ]
  },
  {
   "cell_type": "markdown",
   "metadata": {},
   "source": [
    "**Question-** Out of the first ten students in the datafile, how many students have a college GPA which is higher than their high school GPA?"
   ]
  },
  {
   "cell_type": "code",
   "execution_count": 5,
   "metadata": {},
   "outputs": [
    {
     "data": {
      "text/html": [
       "<div>\n",
       "<style scoped>\n",
       "    .dataframe tbody tr th:only-of-type {\n",
       "        vertical-align: middle;\n",
       "    }\n",
       "\n",
       "    .dataframe tbody tr th {\n",
       "        vertical-align: top;\n",
       "    }\n",
       "\n",
       "    .dataframe thead th {\n",
       "        text-align: right;\n",
       "    }\n",
       "</style>\n",
       "<table border=\"1\" class=\"dataframe\">\n",
       "  <thead>\n",
       "    <tr style=\"text-align: right;\">\n",
       "      <th></th>\n",
       "      <th>Gender</th>\n",
       "      <th>Height</th>\n",
       "      <th>GPA</th>\n",
       "      <th>HS GPA</th>\n",
       "      <th>Seat</th>\n",
       "      <th>WtFeel</th>\n",
       "      <th>Cheat</th>\n",
       "    </tr>\n",
       "  </thead>\n",
       "  <tbody>\n",
       "    <tr>\n",
       "      <th>3</th>\n",
       "      <td>Female</td>\n",
       "      <td>63.0</td>\n",
       "      <td>3.11</td>\n",
       "      <td>2.73</td>\n",
       "      <td>F</td>\n",
       "      <td>AboutRt</td>\n",
       "      <td>No</td>\n",
       "    </tr>\n",
       "    <tr>\n",
       "      <th>4</th>\n",
       "      <td>Male</td>\n",
       "      <td>72.0</td>\n",
       "      <td>3.4</td>\n",
       "      <td>2.35</td>\n",
       "      <td>B</td>\n",
       "      <td>OverWt</td>\n",
       "      <td>No</td>\n",
       "    </tr>\n",
       "    <tr>\n",
       "      <th>8</th>\n",
       "      <td>Male</td>\n",
       "      <td>72.0</td>\n",
       "      <td>3.77</td>\n",
       "      <td>3.09</td>\n",
       "      <td>M</td>\n",
       "      <td>UnderWt</td>\n",
       "      <td>No</td>\n",
       "    </tr>\n",
       "  </tbody>\n",
       "</table>\n",
       "</div>"
      ],
      "text/plain": [
       "   Gender  Height   GPA HS GPA Seat   WtFeel Cheat\n",
       "3  Female    63.0  3.11   2.73    F  AboutRt    No\n",
       "4    Male    72.0   3.4   2.35    B   OverWt    No\n",
       "8    Male    72.0  3.77   3.09    M  UnderWt    No"
      ]
     },
     "execution_count": 5,
     "metadata": {},
     "output_type": "execute_result"
    }
   ],
   "source": [
    "# Select the data(first 10) where college GPA is higher than high school GPA\n",
    "students_first10[students_first10['GPA'] > students_first10['HS GPA']]"
   ]
  },
  {
   "cell_type": "markdown",
   "metadata": {},
   "source": [
    "**Answer-** 3 "
   ]
  },
  {
   "cell_type": "markdown",
   "metadata": {},
   "source": [
    "**Question-** What is the typical seat of the student with the highest GPA among the first ten students in the datafile?"
   ]
  },
  {
   "cell_type": "markdown",
   "metadata": {},
   "source": [
    "**Note-** The Following code will not work. Look below the later cell to know why? "
   ]
  },
  {
   "cell_type": "code",
   "execution_count": 6,
   "metadata": {},
   "outputs": [
    {
     "ename": "TypeError",
     "evalue": "reduction operation 'argmax' not allowed for this dtype",
     "output_type": "error",
     "traceback": [
      "\u001b[0;31m---------------------------------------------------------------------------\u001b[0m",
      "\u001b[0;31mTypeError\u001b[0m                                 Traceback (most recent call last)",
      "\u001b[0;32m<ipython-input-6-788a66730139>\u001b[0m in \u001b[0;36m<module>\u001b[0;34m\u001b[0m\n\u001b[1;32m      1\u001b[0m \u001b[0;31m# First find the index number where the value of GPA is highest\u001b[0m\u001b[0;34m\u001b[0m\u001b[0;34m\u001b[0m\u001b[0;34m\u001b[0m\u001b[0m\n\u001b[0;32m----> 2\u001b[0;31m \u001b[0mstudents_first10\u001b[0m\u001b[0;34m.\u001b[0m\u001b[0midxmax\u001b[0m\u001b[0;34m(\u001b[0m\u001b[0maxis\u001b[0m\u001b[0;34m=\u001b[0m\u001b[0;36m1\u001b[0m\u001b[0;34m)\u001b[0m \u001b[0;31m# axis=1 for searchsing column wise\u001b[0m\u001b[0;34m\u001b[0m\u001b[0;34m\u001b[0m\u001b[0m\n\u001b[0m",
      "\u001b[0;32m~/anaconda3/lib/python3.7/site-packages/pandas/core/frame.py\u001b[0m in \u001b[0;36midxmax\u001b[0;34m(self, axis, skipna)\u001b[0m\n\u001b[1;32m   7593\u001b[0m         \"\"\"\n\u001b[1;32m   7594\u001b[0m         \u001b[0maxis\u001b[0m \u001b[0;34m=\u001b[0m \u001b[0mself\u001b[0m\u001b[0;34m.\u001b[0m\u001b[0m_get_axis_number\u001b[0m\u001b[0;34m(\u001b[0m\u001b[0maxis\u001b[0m\u001b[0;34m)\u001b[0m\u001b[0;34m\u001b[0m\u001b[0;34m\u001b[0m\u001b[0m\n\u001b[0;32m-> 7595\u001b[0;31m         \u001b[0mindices\u001b[0m \u001b[0;34m=\u001b[0m \u001b[0mnanops\u001b[0m\u001b[0;34m.\u001b[0m\u001b[0mnanargmax\u001b[0m\u001b[0;34m(\u001b[0m\u001b[0mself\u001b[0m\u001b[0;34m.\u001b[0m\u001b[0mvalues\u001b[0m\u001b[0;34m,\u001b[0m \u001b[0maxis\u001b[0m\u001b[0;34m=\u001b[0m\u001b[0maxis\u001b[0m\u001b[0;34m,\u001b[0m \u001b[0mskipna\u001b[0m\u001b[0;34m=\u001b[0m\u001b[0mskipna\u001b[0m\u001b[0;34m)\u001b[0m\u001b[0;34m\u001b[0m\u001b[0;34m\u001b[0m\u001b[0m\n\u001b[0m\u001b[1;32m   7596\u001b[0m         \u001b[0mindex\u001b[0m \u001b[0;34m=\u001b[0m \u001b[0mself\u001b[0m\u001b[0;34m.\u001b[0m\u001b[0m_get_axis\u001b[0m\u001b[0;34m(\u001b[0m\u001b[0maxis\u001b[0m\u001b[0;34m)\u001b[0m\u001b[0;34m\u001b[0m\u001b[0;34m\u001b[0m\u001b[0m\n\u001b[1;32m   7597\u001b[0m         \u001b[0mresult\u001b[0m \u001b[0;34m=\u001b[0m \u001b[0;34m[\u001b[0m\u001b[0mindex\u001b[0m\u001b[0;34m[\u001b[0m\u001b[0mi\u001b[0m\u001b[0;34m]\u001b[0m \u001b[0;32mif\u001b[0m \u001b[0mi\u001b[0m \u001b[0;34m>=\u001b[0m \u001b[0;36m0\u001b[0m \u001b[0;32melse\u001b[0m \u001b[0mnp\u001b[0m\u001b[0;34m.\u001b[0m\u001b[0mnan\u001b[0m \u001b[0;32mfor\u001b[0m \u001b[0mi\u001b[0m \u001b[0;32min\u001b[0m \u001b[0mindices\u001b[0m\u001b[0;34m]\u001b[0m\u001b[0;34m\u001b[0m\u001b[0;34m\u001b[0m\u001b[0m\n",
      "\u001b[0;32m~/anaconda3/lib/python3.7/site-packages/pandas/core/nanops.py\u001b[0m in \u001b[0;36m_f\u001b[0;34m(*args, **kwargs)\u001b[0m\n\u001b[1;32m     71\u001b[0m             \u001b[0;32mif\u001b[0m \u001b[0many\u001b[0m\u001b[0;34m(\u001b[0m\u001b[0mself\u001b[0m\u001b[0;34m.\u001b[0m\u001b[0mcheck\u001b[0m\u001b[0;34m(\u001b[0m\u001b[0mobj\u001b[0m\u001b[0;34m)\u001b[0m \u001b[0;32mfor\u001b[0m \u001b[0mobj\u001b[0m \u001b[0;32min\u001b[0m \u001b[0mobj_iter\u001b[0m\u001b[0;34m)\u001b[0m\u001b[0;34m:\u001b[0m\u001b[0;34m\u001b[0m\u001b[0;34m\u001b[0m\u001b[0m\n\u001b[1;32m     72\u001b[0m                 \u001b[0mmsg\u001b[0m \u001b[0;34m=\u001b[0m \u001b[0;34m'reduction operation {name!r} not allowed for this dtype'\u001b[0m\u001b[0;34m\u001b[0m\u001b[0;34m\u001b[0m\u001b[0m\n\u001b[0;32m---> 73\u001b[0;31m                 \u001b[0;32mraise\u001b[0m \u001b[0mTypeError\u001b[0m\u001b[0;34m(\u001b[0m\u001b[0mmsg\u001b[0m\u001b[0;34m.\u001b[0m\u001b[0mformat\u001b[0m\u001b[0;34m(\u001b[0m\u001b[0mname\u001b[0m\u001b[0;34m=\u001b[0m\u001b[0mf\u001b[0m\u001b[0;34m.\u001b[0m\u001b[0m__name__\u001b[0m\u001b[0;34m.\u001b[0m\u001b[0mreplace\u001b[0m\u001b[0;34m(\u001b[0m\u001b[0;34m'nan'\u001b[0m\u001b[0;34m,\u001b[0m \u001b[0;34m''\u001b[0m\u001b[0;34m)\u001b[0m\u001b[0;34m)\u001b[0m\u001b[0;34m)\u001b[0m\u001b[0;34m\u001b[0m\u001b[0;34m\u001b[0m\u001b[0m\n\u001b[0m\u001b[1;32m     74\u001b[0m             \u001b[0;32mtry\u001b[0m\u001b[0;34m:\u001b[0m\u001b[0;34m\u001b[0m\u001b[0;34m\u001b[0m\u001b[0m\n\u001b[1;32m     75\u001b[0m                 \u001b[0;32mwith\u001b[0m \u001b[0mnp\u001b[0m\u001b[0;34m.\u001b[0m\u001b[0merrstate\u001b[0m\u001b[0;34m(\u001b[0m\u001b[0minvalid\u001b[0m\u001b[0;34m=\u001b[0m\u001b[0;34m'ignore'\u001b[0m\u001b[0;34m)\u001b[0m\u001b[0;34m:\u001b[0m\u001b[0;34m\u001b[0m\u001b[0;34m\u001b[0m\u001b[0m\n",
      "\u001b[0;31mTypeError\u001b[0m: reduction operation 'argmax' not allowed for this dtype"
     ]
    }
   ],
   "source": [
    "# First find the index number where the value of GPA is highest\n",
    "students_first10.idxmax(axis=1) # axis=1 for searchsing column wise"
   ]
  },
  {
   "cell_type": "code",
   "execution_count": 7,
   "metadata": {},
   "outputs": [
    {
     "data": {
      "text/plain": [
       "Gender     object\n",
       "Height    float64\n",
       "GPA        object\n",
       "HS GPA     object\n",
       "Seat       object\n",
       "WtFeel     object\n",
       "Cheat      object\n",
       "dtype: object"
      ]
     },
     "execution_count": 7,
     "metadata": {},
     "output_type": "execute_result"
    }
   ],
   "source": [
    "students_first10.dtypes"
   ]
  },
  {
   "cell_type": "markdown",
   "metadata": {},
   "source": [
    "We can see that the data type of the GPA column is object(string) which is why pandas is throwing an error. \n",
    "As it is mentioned in the Problem description that there are missing values denoted by `*`. First we have to \n",
    "replace these values with np.nan which pandas understand that it is a missing value."
   ]
  },
  {
   "cell_type": "code",
   "execution_count": 8,
   "metadata": {},
   "outputs": [
    {
     "data": {
      "text/plain": [
       "Gender     object\n",
       "Height    float64\n",
       "GPA       float64\n",
       "HS GPA    float64\n",
       "Seat       object\n",
       "WtFeel     object\n",
       "Cheat      object\n",
       "dtype: object"
      ]
     },
     "execution_count": 8,
     "metadata": {},
     "output_type": "execute_result"
    }
   ],
   "source": [
    "# replace the missing values for the whole dataframe\n",
    "students.replace('*',np.nan , inplace=True) # inplace=True means we want the operation to be permanent\n",
    "# now check the dtypes\n",
    "students.dtypes"
   ]
  },
  {
   "cell_type": "markdown",
   "metadata": {},
   "source": [
    "We can see that GPA and other numerical columns are converted to float type from object(string). "
   ]
  },
  {
   "cell_type": "code",
   "execution_count": 9,
   "metadata": {},
   "outputs": [],
   "source": [
    "# Now reselect the first 10 data \n",
    "students_first10 = students.head(10)"
   ]
  },
  {
   "cell_type": "code",
   "execution_count": 10,
   "metadata": {},
   "outputs": [
    {
     "data": {
      "text/plain": [
       "8"
      ]
     },
     "execution_count": 10,
     "metadata": {},
     "output_type": "execute_result"
    }
   ],
   "source": [
    "# First find the index number where the value of GPA is highest\n",
    "students_first10['GPA'].idxmax(axis=1) # axis=1 for searchsing column wise"
   ]
  },
  {
   "cell_type": "code",
   "execution_count": 11,
   "metadata": {},
   "outputs": [
    {
     "data": {
      "text/plain": [
       "Gender       Male\n",
       "Height         72\n",
       "GPA          3.77\n",
       "HS GPA       3.09\n",
       "Seat            M\n",
       "WtFeel    UnderWt\n",
       "Cheat          No\n",
       "Name: 8, dtype: object"
      ]
     },
     "execution_count": 11,
     "metadata": {},
     "output_type": "execute_result"
    }
   ],
   "source": [
    "# show the data for this index\n",
    "students_first10.iloc[8, :]"
   ]
  },
  {
   "cell_type": "markdown",
   "metadata": {},
   "source": [
    "**Answer-** M "
   ]
  },
  {
   "cell_type": "markdown",
   "metadata": {},
   "source": [
    "## Question One"
   ]
  },
  {
   "cell_type": "markdown",
   "metadata": {},
   "source": [
    "Now that we have completed the first part, where we examined some general features of the problem, it is time to look at the questions that we are trying to answer using the data.\n",
    "\n",
    "**Question- Is there a relationship between students' college GPAs and their high school GPAs?**"
   ]
  },
  {
   "cell_type": "markdown",
   "metadata": {},
   "source": [
    "#### Reflect on Question (Question One)"
   ]
  },
  {
   "cell_type": "markdown",
   "metadata": {},
   "source": [
    "In this first step, we think about the question and use our intuition and/or experience to try and predict what the results will show. Later, we will compare what we initially thought to what we actually find when we analyze the data.\n",
    "\n",
    "Note that we will repeat the middle three steps in the work plan (Reflect on Question, Analyze Data, and Draw Conclusions) for each of the questions in the analysis."
   ]
  },
  {
   "cell_type": "markdown",
   "metadata": {},
   "source": [
    "**Question-** Before analyzing the data and discovering the relationship between students' high school GPAs and their college GPAs, try to predict what the data will show (use your own experience and intuition)."
   ]
  },
  {
   "cell_type": "markdown",
   "metadata": {},
   "source": [
    "**Your Answer-** "
   ]
  },
  {
   "cell_type": "markdown",
   "metadata": {},
   "source": [
    "### Analyze Data (Question One)\n",
    "In this step, we choose and conduct the analyses that are needed in order to address the current question."
   ]
  },
  {
   "cell_type": "markdown",
   "metadata": {},
   "source": [
    "#### Plan Analyses (Question One)\n",
    "\n",
    "Before choosing the appropriate analyses, it is helpful to:\n",
    "\n",
    "**Identify the relevant variables:**\n",
    "\n",
    "**Question-** Which variable(s) among those listed below is/are particularly relevant to the current question?\n",
    "\n",
    "* Gender\n",
    "* Height\n",
    "* GPA\n",
    "* HS_GPA\n",
    "* Seat\n",
    "* WtFeel\n",
    "* Cheat\n",
    "\n",
    "Select all that apply."
   ]
  },
  {
   "cell_type": "markdown",
   "metadata": {},
   "source": [
    "**Your Answer-** "
   ]
  },
  {
   "cell_type": "markdown",
   "metadata": {},
   "source": [
    "**Classify the relevant variables:**\n",
    "* The variable GPA is ____________  variable and is __________(Quantitative/categorical). \n",
    "* The variable HS_GPA is__________  variable and is ____________. "
   ]
  },
  {
   "cell_type": "markdown",
   "metadata": {},
   "source": [
    "**Your Answer-** "
   ]
  },
  {
   "cell_type": "markdown",
   "metadata": {},
   "source": [
    "### Exploratory Analysis (Question One)\n",
    "Now that we have identified and classified the relevant variable(s), we use exploratory data analysis methods to help us make important features of the data visible."
   ]
  },
  {
   "cell_type": "markdown",
   "metadata": {},
   "source": [
    "#### Determine Displays and Measures (Question One)"
   ]
  },
  {
   "cell_type": "markdown",
   "metadata": {},
   "source": [
    "**Question-** A meaningful display is:\n",
    "\n",
    "* Side-by-side boxplots\n",
    "* Scatterplot\n",
    "* Two-way Table\n",
    "* Piechart\n",
    "* Histogram"
   ]
  },
  {
   "cell_type": "markdown",
   "metadata": {},
   "source": [
    "**Your Answer-** "
   ]
  },
  {
   "cell_type": "markdown",
   "metadata": {},
   "source": [
    "**Question-** A meaningful numerical summary to supplement the above display is?\n",
    "* Descriptive statistics(five point summary)\n",
    "* Correlation r \n",
    "* Conditional Percentages"
   ]
  },
  {
   "cell_type": "markdown",
   "metadata": {},
   "source": [
    "**Your Answer-** "
   ]
  },
  {
   "cell_type": "markdown",
   "metadata": {},
   "source": [
    "### Conduct Analysis (Question One)"
   ]
  },
  {
   "cell_type": "code",
   "execution_count": 12,
   "metadata": {},
   "outputs": [
    {
     "data": {
      "image/png": "[encoded data removed]",
      "text/plain": [
       "<Figure size 432x432 with 1 Axes>"
      ]
     },
     "metadata": {
      "needs_background": "light"
     },
     "output_type": "display_data"
    }
   ],
   "source": [
    "import seaborn as sns \n",
    "\n",
    "# create a scatter plot \n",
    "sns.lmplot(x='HS GPA', y='GPA',height=6, data=students);"
   ]
  },
  {
   "cell_type": "code",
   "execution_count": 13,
   "metadata": {},
   "outputs": [
    {
     "data": {
      "text/plain": [
       "0.7155473634222818"
      ]
     },
     "execution_count": 13,
     "metadata": {},
     "output_type": "execute_result"
    }
   ],
   "source": [
    "# Correlation \n",
    "students['HS GPA'].corr(students['GPA'])"
   ]
  },
  {
   "cell_type": "markdown",
   "metadata": {},
   "source": [
    "### Results (Question One)\n",
    "Remember, using the display and numerical summary, you need to describe the features of a single quantitative distribution.\n",
    "\n",
    "Do that by describing the key features of the display and by supporting your description with numerical measures.\n",
    "\n",
    "Keep in mind that the appropriate numerical measures for the current situation (i.e., measures of center and spread) will depend on the shape of the distribution you find."
   ]
  },
  {
   "cell_type": "markdown",
   "metadata": {},
   "source": [
    "**Your Answer-** "
   ]
  },
  {
   "cell_type": "markdown",
   "metadata": {},
   "source": [
    "### Draw Conclusions (Question One)\n",
    "\n",
    "In this step, Draw Conclusions, we interpret the results we got from out analyses in the context of the current question.\n",
    "\n",
    "Consider what results mean (Question One)\n",
    "\n",
    "**What do the results you got indicate about the relationship between students' high school GPAs and their college GPAs?**"
   ]
  },
  {
   "cell_type": "markdown",
   "metadata": {},
   "source": [
    "**Your Answer-** "
   ]
  },
  {
   "cell_type": "markdown",
   "metadata": {},
   "source": [
    "#### Reflect on Conclusions (Question One)\n",
    "Relate the comments you made before analyzing the data by commenting on both of the following:\n",
    "\n",
    "* how your expectations differ (or do not differ) from the actual results\n",
    "* if it is relevant or meaningful in context, think of a way that these results could be used in practice"
   ]
  },
  {
   "cell_type": "markdown",
   "metadata": {},
   "source": [
    "**Your Answer-** "
   ]
  },
  {
   "cell_type": "markdown",
   "metadata": {},
   "source": [
    "# Question Two\n",
    "\n",
    "Now that we are done with Question One, we are going to repeat the same three steps (Reflect on Question, Analyze Data, and Draw Conclusions) for Question Two.\n",
    "\n",
    "**Q2. Are there differences between males and females with respect to body image?**"
   ]
  },
  {
   "cell_type": "markdown",
   "metadata": {},
   "source": [
    "#### Reflect on Question (Question Two)\n",
    "Before analyzing the data and discovering whether there is a gender effect on body image, try to predict what the data will show (use your own experience and intuition)."
   ]
  },
  {
   "cell_type": "markdown",
   "metadata": {},
   "source": [
    "**Your Answer-** "
   ]
  },
  {
   "cell_type": "markdown",
   "metadata": {},
   "source": [
    "### Analyze Data (Question Two)"
   ]
  },
  {
   "cell_type": "markdown",
   "metadata": {},
   "source": [
    "#### Plan Analyses (Question Two)\n",
    "\n",
    "Before choosing the appropriate analyses, it is helpful to:\n",
    "\n",
    "**Identify the relevant variables:**\n",
    "\n",
    "**Question-** Which variable(s) among those listed below is/are particularly relevant to the current question?\n",
    "\n",
    "* Gender\n",
    "* Height\n",
    "* GPA\n",
    "* HS_GPA\n",
    "* Seat\n",
    "* WtFeel\n",
    "* Cheat"
   ]
  },
  {
   "cell_type": "markdown",
   "metadata": {},
   "source": [
    "**Your Answer-** "
   ]
  },
  {
   "cell_type": "markdown",
   "metadata": {},
   "source": [
    "**Classify the relevant variables:**\n",
    "\n",
    "* The variable Gender __________ is  variable and is ____________.\n",
    "* The variable WtFeel is ___________ variable and is _____________. "
   ]
  },
  {
   "cell_type": "markdown",
   "metadata": {},
   "source": [
    "**Your Answer-** "
   ]
  },
  {
   "cell_type": "markdown",
   "metadata": {},
   "source": [
    "### Exploratory Analysis (Question Two)"
   ]
  },
  {
   "cell_type": "markdown",
   "metadata": {},
   "source": [
    "#### Determine Displays and Measures (Question Two)\n",
    "\n",
    "**A meaningful display is:**\n",
    "* Side-by-side boxplots\n",
    "* Scatterplot\n",
    "* Two-way Table\n",
    "* Piechart\n",
    "* Histogram\n"
   ]
  },
  {
   "cell_type": "markdown",
   "metadata": {},
   "source": [
    "**Your Answer-** "
   ]
  },
  {
   "cell_type": "markdown",
   "metadata": {},
   "source": [
    "**A meaningful numerical summary to supplement the above display is-**\n",
    "\n",
    "* Descriptive statistics(five point summary)\n",
    "* Correlation r \n",
    "* Conditional Percentages"
   ]
  },
  {
   "cell_type": "markdown",
   "metadata": {},
   "source": [
    "**Your Answer-** "
   ]
  },
  {
   "cell_type": "markdown",
   "metadata": {},
   "source": [
    "### Conduct Analysis (Question Two)"
   ]
  },
  {
   "cell_type": "code",
   "execution_count": 14,
   "metadata": {},
   "outputs": [
    {
     "data": {
      "text/html": [
       "<div>\n",
       "<style scoped>\n",
       "    .dataframe tbody tr th:only-of-type {\n",
       "        vertical-align: middle;\n",
       "    }\n",
       "\n",
       "    .dataframe tbody tr th {\n",
       "        vertical-align: top;\n",
       "    }\n",
       "\n",
       "    .dataframe thead th {\n",
       "        text-align: right;\n",
       "    }\n",
       "</style>\n",
       "<table border=\"1\" class=\"dataframe\">\n",
       "  <thead>\n",
       "    <tr style=\"text-align: right;\">\n",
       "      <th>WtFeel</th>\n",
       "      <th>AboutRt</th>\n",
       "      <th>OverWt</th>\n",
       "      <th>UnderWt</th>\n",
       "    </tr>\n",
       "    <tr>\n",
       "      <th>Gender</th>\n",
       "      <th></th>\n",
       "      <th></th>\n",
       "      <th></th>\n",
       "    </tr>\n",
       "  </thead>\n",
       "  <tbody>\n",
       "    <tr>\n",
       "      <th>Female</th>\n",
       "      <td>107</td>\n",
       "      <td>32</td>\n",
       "      <td>6</td>\n",
       "    </tr>\n",
       "    <tr>\n",
       "      <th>Male</th>\n",
       "      <td>56</td>\n",
       "      <td>15</td>\n",
       "      <td>13</td>\n",
       "    </tr>\n",
       "  </tbody>\n",
       "</table>\n",
       "</div>"
      ],
      "text/plain": [
       "WtFeel  AboutRt  OverWt  UnderWt\n",
       "Gender                          \n",
       "Female      107      32        6\n",
       "Male         56      15       13"
      ]
     },
     "execution_count": 14,
     "metadata": {},
     "output_type": "execute_result"
    }
   ],
   "source": [
    "# create a two-way table\n",
    "gender_wtfeel = students.pivot_table(index='Gender', columns='WtFeel',\n",
    "                                    aggfunc='size')\n",
    "gender_wtfeel"
   ]
  },
  {
   "cell_type": "code",
   "execution_count": 16,
   "metadata": {},
   "outputs": [
    {
     "data": {
      "text/html": [
       "<div>\n",
       "<style scoped>\n",
       "    .dataframe tbody tr th:only-of-type {\n",
       "        vertical-align: middle;\n",
       "    }\n",
       "\n",
       "    .dataframe tbody tr th {\n",
       "        vertical-align: top;\n",
       "    }\n",
       "\n",
       "    .dataframe thead th {\n",
       "        text-align: right;\n",
       "    }\n",
       "</style>\n",
       "<table border=\"1\" class=\"dataframe\">\n",
       "  <thead>\n",
       "    <tr style=\"text-align: right;\">\n",
       "      <th>WtFeel</th>\n",
       "      <th>AboutRt</th>\n",
       "      <th>OverWt</th>\n",
       "      <th>UnderWt</th>\n",
       "    </tr>\n",
       "    <tr>\n",
       "      <th>Gender</th>\n",
       "      <th></th>\n",
       "      <th></th>\n",
       "      <th></th>\n",
       "    </tr>\n",
       "  </thead>\n",
       "  <tbody>\n",
       "    <tr>\n",
       "      <th>Female</th>\n",
       "      <td>73.79</td>\n",
       "      <td>22.07</td>\n",
       "      <td>4.14</td>\n",
       "    </tr>\n",
       "    <tr>\n",
       "      <th>Male</th>\n",
       "      <td>66.67</td>\n",
       "      <td>17.86</td>\n",
       "      <td>15.48</td>\n",
       "    </tr>\n",
       "  </tbody>\n",
       "</table>\n",
       "</div>"
      ],
      "text/plain": [
       "WtFeel  AboutRt  OverWt  UnderWt\n",
       "Gender                          \n",
       "Female    73.79   22.07     4.14\n",
       "Male      66.67   17.86    15.48"
      ]
     },
     "execution_count": 16,
     "metadata": {},
     "output_type": "execute_result"
    }
   ],
   "source": [
    "# create a two-way conditional percentage table\n",
    "gender_wtfeel_percent = gender_wtfeel.apply(lambda x: round(x / gender_wtfeel.sum(axis=1)*100, 2))\n",
    "gender_wtfeel_percent"
   ]
  },
  {
   "cell_type": "code",
   "execution_count": 17,
   "metadata": {},
   "outputs": [
    {
     "data": {
      "image/png": "[encoded data removed]",
      "text/plain": [
       "<Figure size 432x288 with 1 Axes>"
      ]
     },
     "metadata": {
      "needs_background": "light"
     },
     "output_type": "display_data"
    }
   ],
   "source": [
    "gender_wtfeel_percent.plot.bar();"
   ]
  },
  {
   "cell_type": "markdown",
   "metadata": {},
   "source": [
    "### Results (Question Two)\n",
    "Remember, using the display and numerical summary, you need to describe the features of a single quantitative distribution.\n",
    "\n",
    "Do that by describing the key features of the display and by supporting your description with numerical measures.\n",
    "\n",
    "Keep in mind that the appropriate numerical measures for the current situation (i.e., measures of center and spread) will depend on the shape of the distribution you find."
   ]
  },
  {
   "cell_type": "markdown",
   "metadata": {},
   "source": [
    "**Your Answer-** "
   ]
  },
  {
   "cell_type": "markdown",
   "metadata": {},
   "source": [
    "### Draw Conclusions (Question Two)"
   ]
  },
  {
   "cell_type": "markdown",
   "metadata": {},
   "source": [
    "**Question-** What do the results you got indicate about how males and females differ with respect to their body image?"
   ]
  },
  {
   "cell_type": "markdown",
   "metadata": {},
   "source": [
    "**Your Answer-** "
   ]
  },
  {
   "cell_type": "markdown",
   "metadata": {},
   "source": [
    "### Reflect on Conclusions (Question Two)"
   ]
  },
  {
   "cell_type": "markdown",
   "metadata": {},
   "source": [
    "Relate the comments you made before analyzing the data (these appear in the textbox above) by commenting on both of the following:\n",
    "\n",
    "* how your expectations differ (or do not differ) from the actual results\n",
    "* if it is relevant or meaningful in context, think of a way that these results could be used in practice"
   ]
  },
  {
   "cell_type": "markdown",
   "metadata": {},
   "source": [
    "**your Answer-** "
   ]
  },
  {
   "cell_type": "markdown",
   "metadata": {},
   "source": [
    "## Question Three\n",
    "**Is students' academic performance in college related to their typical seating location in class?**"
   ]
  },
  {
   "cell_type": "markdown",
   "metadata": {},
   "source": [
    "#### Reflect on Question (Question Three)"
   ]
  },
  {
   "cell_type": "markdown",
   "metadata": {},
   "source": [
    "Before analyzing the data and discovering the relationship between student's academic performance and their typical seat in class, try to predict what the data will show (use your own experience and intuition). "
   ]
  },
  {
   "cell_type": "markdown",
   "metadata": {},
   "source": [
    "**Your Answer-** "
   ]
  },
  {
   "cell_type": "markdown",
   "metadata": {},
   "source": [
    "### Analyze Data (Question Three)"
   ]
  },
  {
   "cell_type": "markdown",
   "metadata": {},
   "source": [
    "#### Plan Analyses (Question Three)"
   ]
  },
  {
   "cell_type": "markdown",
   "metadata": {},
   "source": [
    "Before choosing the appropriate analyses, it is helpful to:\n",
    "\n",
    "**Identify the relevant variables:**\n",
    "\n",
    "Which variable(s) among those listed below is/are particularly relevant to the current question?\n",
    "\n",
    "* Gender\n",
    "* Height\n",
    "* GPA\n",
    "* HS_GPA\n",
    "* Seat\n",
    "* WtFeel\n",
    "* Cheat\n"
   ]
  },
  {
   "cell_type": "markdown",
   "metadata": {},
   "source": [
    "**Your Answer-** "
   ]
  },
  {
   "cell_type": "markdown",
   "metadata": {},
   "source": [
    "**Classify the relevant variables:**\n",
    "* The variable **GPA** is __________  variable and is __________.\n",
    "* The variable **Seat** is __________ variable and is __________."
   ]
  },
  {
   "cell_type": "markdown",
   "metadata": {},
   "source": [
    "**Your Answer-** "
   ]
  },
  {
   "cell_type": "markdown",
   "metadata": {},
   "source": [
    "### Exploratory Analysis (Question Three)"
   ]
  },
  {
   "cell_type": "markdown",
   "metadata": {},
   "source": [
    "#### Determine Displays and Measures (Question Three)"
   ]
  },
  {
   "cell_type": "markdown",
   "metadata": {},
   "source": [
    "A meaningful display is:\n",
    "\n",
    "* Side-by-side boxplots\n",
    "* Scatterplot\n",
    "* Two-way Table\n",
    "* Piechart\n",
    "* Histogram\n"
   ]
  },
  {
   "cell_type": "markdown",
   "metadata": {},
   "source": [
    "**Your Answer-** "
   ]
  },
  {
   "cell_type": "markdown",
   "metadata": {},
   "source": [
    "**A meaningful numerical summary to supplement the above display is**\n",
    "* Descriptive statistics(five point summary)\n",
    "* Correlation r\n",
    "* Conditional Percentages"
   ]
  },
  {
   "cell_type": "markdown",
   "metadata": {},
   "source": [
    "**Your Answer-** "
   ]
  },
  {
   "cell_type": "markdown",
   "metadata": {},
   "source": [
    "### Conduct Analysis (Question Three)"
   ]
  },
  {
   "cell_type": "code",
   "execution_count": 37,
   "metadata": {},
   "outputs": [
    {
     "data": {
      "image/png": "[encoded data removed]",
      "text/plain": [
       "<Figure size 504x432 with 1 Axes>"
      ]
     },
     "metadata": {
      "needs_background": "light"
     },
     "output_type": "display_data"
    }
   ],
   "source": [
    "# create side by side box plot \n",
    "students.boxplot(by='Seat',column='GPA', grid=False, figsize=(7,6));"
   ]
  },
  {
   "cell_type": "code",
   "execution_count": 38,
   "metadata": {},
   "outputs": [
    {
     "data": {
      "text/html": [
       "<div>\n",
       "<style scoped>\n",
       "    .dataframe tbody tr th:only-of-type {\n",
       "        vertical-align: middle;\n",
       "    }\n",
       "\n",
       "    .dataframe tbody tr th {\n",
       "        vertical-align: top;\n",
       "    }\n",
       "\n",
       "    .dataframe thead th {\n",
       "        text-align: right;\n",
       "    }\n",
       "</style>\n",
       "<table border=\"1\" class=\"dataframe\">\n",
       "  <thead>\n",
       "    <tr style=\"text-align: right;\">\n",
       "      <th></th>\n",
       "      <th>count</th>\n",
       "      <th>mean</th>\n",
       "      <th>std</th>\n",
       "      <th>min</th>\n",
       "      <th>25%</th>\n",
       "      <th>50%</th>\n",
       "      <th>75%</th>\n",
       "      <th>max</th>\n",
       "    </tr>\n",
       "    <tr>\n",
       "      <th>Seat</th>\n",
       "      <th></th>\n",
       "      <th></th>\n",
       "      <th></th>\n",
       "      <th></th>\n",
       "      <th></th>\n",
       "      <th></th>\n",
       "      <th></th>\n",
       "      <th></th>\n",
       "    </tr>\n",
       "  </thead>\n",
       "  <tbody>\n",
       "    <tr>\n",
       "      <th>B</th>\n",
       "      <td>46.0</td>\n",
       "      <td>2.974348</td>\n",
       "      <td>0.493296</td>\n",
       "      <td>2.00</td>\n",
       "      <td>2.6775</td>\n",
       "      <td>3.00</td>\n",
       "      <td>3.2375</td>\n",
       "      <td>4.06</td>\n",
       "    </tr>\n",
       "    <tr>\n",
       "      <th>F</th>\n",
       "      <td>51.0</td>\n",
       "      <td>3.251098</td>\n",
       "      <td>0.567237</td>\n",
       "      <td>1.92</td>\n",
       "      <td>3.0000</td>\n",
       "      <td>3.33</td>\n",
       "      <td>3.7000</td>\n",
       "      <td>4.10</td>\n",
       "    </tr>\n",
       "    <tr>\n",
       "      <th>M</th>\n",
       "      <td>131.0</td>\n",
       "      <td>3.118931</td>\n",
       "      <td>0.526408</td>\n",
       "      <td>1.91</td>\n",
       "      <td>2.7800</td>\n",
       "      <td>3.00</td>\n",
       "      <td>3.5050</td>\n",
       "      <td>4.38</td>\n",
       "    </tr>\n",
       "  </tbody>\n",
       "</table>\n",
       "</div>"
      ],
      "text/plain": [
       "      count      mean       std   min     25%   50%     75%   max\n",
       "Seat                                                             \n",
       "B      46.0  2.974348  0.493296  2.00  2.6775  3.00  3.2375  4.06\n",
       "F      51.0  3.251098  0.567237  1.92  3.0000  3.33  3.7000  4.10\n",
       "M     131.0  3.118931  0.526408  1.91  2.7800  3.00  3.5050  4.38"
      ]
     },
     "execution_count": 38,
     "metadata": {},
     "output_type": "execute_result"
    }
   ],
   "source": [
    "# summary statistics for GPA grouped by Seat\n",
    "students.groupby('Seat')['GPA'].describe()"
   ]
  },
  {
   "cell_type": "markdown",
   "metadata": {},
   "source": [
    "### Results (Question Three)"
   ]
  },
  {
   "cell_type": "markdown",
   "metadata": {},
   "source": [
    "Remember, using the display and numerical summary, you need to describe the features of a single quantitative distribution.\n",
    "\n",
    "Do that by describing the key features of the display and by supporting your description with numerical measures.\n",
    "\n",
    "Keep in mind that the appropriate numerical measures for the current situation (i.e., measures of center and spread) will depend on the shape of the distribution you find."
   ]
  },
  {
   "cell_type": "markdown",
   "metadata": {},
   "source": [
    "**Your Answer-** "
   ]
  },
  {
   "cell_type": "markdown",
   "metadata": {},
   "source": [
    "### Draw Conclusions (Question Three)"
   ]
  },
  {
   "cell_type": "markdown",
   "metadata": {},
   "source": [
    "**What do the results you got indicate about the relationship between typical seating location in class and academic performance in college?**"
   ]
  },
  {
   "cell_type": "markdown",
   "metadata": {},
   "source": [
    "**Your Answer-** "
   ]
  },
  {
   "cell_type": "markdown",
   "metadata": {},
   "source": [
    "#### Reflect on Conclusions (Question Three)\n",
    "Relate the comments you made before analyzing the data (these appear in the textbox above) by commenting on both of the following:\n",
    "\n",
    "how your expectations differ (or do not differ) from the actual results\n",
    "if it is relevant or meaningful in context, think of a way that these results could be used in practice\n"
   ]
  },
  {
   "cell_type": "markdown",
   "metadata": {},
   "source": [
    "**Your Answer-** "
   ]
  },
  {
   "cell_type": "markdown",
   "metadata": {},
   "source": [
    "### Summarize"
   ]
  },
  {
   "cell_type": "markdown",
   "metadata": {},
   "source": [
    "Now that you have addressed all the questions individually, write a short summary report of the main findings that you discovered using the data. For your convenience, your individual conclusions are provided below. You may edit them to create your summary.\n",
    "\n",
    "After you write your summary, you are done"
   ]
  },
  {
   "cell_type": "markdown",
   "metadata": {},
   "source": [
    "**Your Answer-** "
   ]
  },
  {
   "cell_type": "markdown",
   "metadata": {},
   "source": [
    "# Summary (EDA)"
   ]
  },
  {
   "cell_type": "markdown",
   "metadata": {},
   "source": [
    "This summary provides a quick recap of the material you've learned in the Exploratory Data Analysis section. Please note that this summary **does not provide complete coverage** of the material, but just lists the main points. We therefore recommend that you use this summary only as a checklist or a review before going on to the next section, or before an exam.\n",
    "\n",
    "* The purpose of exploratory data analysis (EDA) is to convert the available **data** from their raw form to an informative one, in which the main features of the data are illuminated.\n",
    "\n",
    "\n",
    "* When performing EDA, we should always:\n",
    "    * use **visual displays** (graphs or tables) plus numerical summaries.\n",
    "    * describe the **overall pattern** and mention any **striking deviations** from that pattern.\n",
    "    * **interpret** the results we got in **context**.\n",
    "    \n",
    "\n",
    "* When examining the **distribution** of a single variable, we distinguish between a **categorical** variable and a **quantitative** variable.\n",
    "\n",
    "\n",
    "* The distribution of a **categorical** variable is summarized using:\n",
    "\n",
    "    * Display: pie-chart or bar-chart (variation: pictogram → can be misleading—beware!)\n",
    "    * Numerical summaries: category (group) percentages.\n",
    "    \n",
    "    \n",
    "* The distribution of a **quantitative** variable is summarized using:\n",
    "\n",
    "\n",
    "    * Display: histogram (or stemplot, mainly for small data sets). When describing the distribution as displayed by the histogram, we should describe the:\n",
    "       * Overall pattern → shape, center, spread.\n",
    "       * Deviations from the pattern → outliers.\n",
    "    * Numerical summaries: descriptive statistics (measure of center plus measure of spread):\n",
    "       * If distribution is symmetric with no outliers, use mean and standard deviation.\n",
    "       * Otherwise, use the five-number summary, in particular, median and IQR (inter-quartile range).\n",
    "    \n",
    "    \n",
    "* The five-number summary and the 1.5(IQR) Criterion for detecting outliers are the ingredients we need to build the boxplot. Boxplots are most effective when used side-by-side for comparing distributions (see also case C→Q in examining relationships).\n",
    "\n",
    "* In the special case of a distribution having the normal shape, the Standard Deviation Rule applies. This rule tells us approximately what percent of the observations fall within 1,2, or 3 standard deviations away from the mean. In particular, when a distribution is approximately normal, almost all the observations (99.7%) fall within 3 standard deviations of the mean.\n",
    "\n",
    "* When examining the relationship between two variables, the first step is to classify the two relevant variables according to their role and type:\n",
    "\n",
    "![image](../img/role_type.png)\n",
    "\n",
    "and only then to determine the appropriate tools for summarizing the data. (We don't deal with case Q→C in this course).\n",
    "\n",
    "* Case C→Q:\n",
    "\n",
    "Exploring the relationship amounts to comparing the distributions of the quantitative response variable for each category of the explanatory variable. To do this, we use:\n",
    "\n",
    "   * Display: side-by-side boxplots.\n",
    "    * Numerical summaries: descriptive statistics of the response variable, for each value (category) of the explanatory variable separately.\n",
    "\n",
    "Case C→C:\n",
    "Exploring the relationship amounts to comparing the distributions of the categorical response variable, for each category of the explanatory variable. To do this, we use:\n",
    "\n",
    "   * Display: two-way table.\n",
    "   * Numerical summaries: conditional percentages (of the response variable for each value (category) of the explanatory variable separately).\n",
    "\n",
    "Case Q→Q:\n",
    "We examine the relationship using:\n",
    "\n",
    "   * Display: scatterplot. When describing the relationship as displayed by the scatterplot, be sure to consider:\n",
    "   * Overall pattern → direction, form, strength.\n",
    "   * Deviations from the pattern → outliers.\n",
    "* Labeling the scatterplot (including a relevant third categorical variable in our analysis), might add some insight into the nature of the relationship.\n",
    "\n",
    "In the special case that the scatterplot displays a linear relationship (and only then), we supplement the scatterplot with:\n",
    "\n",
    "   * Numerical summaries: the correlation coefficient (r) measures the direction and, more importantly, the strength of the linear relationship. The closer r is to 1 (or -1), the stronger the positive (or negative) linear relationship. r is unitless, influenced by outliers, and should be used only as a supplement to the scatterplot.\n",
    "    \n",
    "   * When the relationship is linear (as displayed by the scatterplot, and supported by the correlation r), we can summarize the linear pattern using the least squares regression line. Remember that:\n",
    "\n",
    "       * The slope of the regression line tells us the average change in the response variable that results from a 1-unit increase in the explanatory variable.\n",
    "       * When using the regression line for predictions, you should beware of extrapolation.\n",
    "\n",
    "* When examining the relationship between two variables (regardless of the case), any observed relationship (association) does not imply causation, due to the possible presence of lurking variables.\n",
    "\n",
    "* When we include a lurking variable in our analysis, we might need to rethink the direction of the relationship → Simpson's paradox.\n",
    "\n"
   ]
  },
  {
   "cell_type": "code",
   "execution_count": null,
   "metadata": {},
   "outputs": [],
   "source": []
  }
 ],
 "metadata": {
  "kernelspec": {
   "display_name": "Python 3",
   "language": "python",
   "name": "python3"
  },
  "language_info": {
   "codemirror_mode": {
    "name": "ipython",
    "version": 3
   },
   "file_extension": ".py",
   "mimetype": "text/x-python",
   "name": "python",
   "nbconvert_exporter": "python",
   "pygments_lexer": "ipython3",
   "version": "3.7.3"
  },
  "varInspector": {
   "cols": {
    "lenName": 16,
    "lenType": 16,
    "lenVar": 40
   },
   "kernels_config": {
    "python": {
     "delete_cmd_postfix": "",
     "delete_cmd_prefix": "del ",
     "library": "var_list.py",
     "varRefreshCmd": "print(var_dic_list())"
    },
    "r": {
     "delete_cmd_postfix": ") ",
     "delete_cmd_prefix": "rm(",
     "library": "var_list.r",
     "varRefreshCmd": "cat(var_dic_list()) "
    }
   },
   "types_to_exclude": [
    "module",
    "function",
    "builtin_function_or_method",
    "instance",
    "_Feature"
   ],
   "window_display": false
  }
 },
 "nbformat": 4,
 "nbformat_minor": 2
}
